{
 "cells": [
  {
   "cell_type": "markdown",
   "metadata": {},
   "source": [
    "# 乳癌資料庫預測SVM分類\n",
    ">使用scikit-learn 機器學習套件裡的SVR演算法\n",
    "\n",
    "* (一)引入函式庫及內建乳癌資料集<br>\n",
    "引入之函式庫如下<br>\n",
    "sklearn.datasets: 用來匯入內建之乳癌資料集`datasets.load_breast_cancer()`<br>\n",
    "sklearn.SVR: 支持向量機回歸分析之演算法<br>\n",
    "matplotlib.pyplot: 用來繪製影像"
   ]
  },
  {
   "cell_type": "code",
   "execution_count": 2,
   "metadata": {},
   "outputs": [],
   "source": [
    "from sklearn import svm\n",
    "from sklearn import datasets\n",
    "from sklearn.model_selection import train_test_split\n",
    "from sklearn.metrics import accuracy_score\n",
    "import pandas as pd\n",
    "import numpy as np\n",
    "import matplotlib.pyplot as plt"
   ]
  },
  {
   "cell_type": "markdown",
   "metadata": {},
   "source": [
    "## Step1. 下載資料"
   ]
  },
  {
   "cell_type": "code",
   "execution_count": 3,
   "metadata": {},
   "outputs": [
    {
     "name": "stdout",
     "output_type": "stream",
     "text": [
      "dict_keys(['data', 'target', 'frame', 'target_names', 'DESCR', 'feature_names', 'filename'])\n",
      "['mean radius' 'mean texture' 'mean perimeter' 'mean area'\n",
      " 'mean smoothness' 'mean compactness' 'mean concavity'\n",
      " 'mean concave points' 'mean symmetry' 'mean fractal dimension'\n",
      " 'radius error' 'texture error' 'perimeter error' 'area error'\n",
      " 'smoothness error' 'compactness error' 'concavity error'\n",
      " 'concave points error' 'symmetry error' 'fractal dimension error'\n",
      " 'worst radius' 'worst texture' 'worst perimeter' 'worst area'\n",
      " 'worst smoothness' 'worst compactness' 'worst concavity'\n",
      " 'worst concave points' 'worst symmetry' 'worst fractal dimension']\n",
      "['malignant' 'benign']\n"
     ]
    }
   ],
   "source": [
    "breast_cancer=datasets.load_breast_cancer()\n",
    "features=breast_cancer.data\n",
    "target=breast_cancer.target\n",
    "print(breast_cancer.keys())\n",
    "print(breast_cancer.feature_names)\n",
    "print(breast_cancer.target_names)"
   ]
  },
  {
   "cell_type": "code",
   "execution_count": 4,
   "metadata": {},
   "outputs": [
    {
     "name": "stdout",
     "output_type": "stream",
     "text": [
      ".. _breast_cancer_dataset:\n",
      "\n",
      "Breast cancer wisconsin (diagnostic) dataset\n",
      "--------------------------------------------\n",
      "\n",
      "**Data Set Characteristics:**\n",
      "\n",
      "    :Number of Instances: 569\n",
      "\n",
      "    :Number of Attributes: 30 numeric, predictive attributes and the class\n",
      "\n",
      "    :Attribute Information:\n",
      "        - radius (mean of distances from center to points on the perimeter)\n",
      "        - texture (standard deviation of gray-scale values)\n",
      "        - perimeter\n",
      "        - area\n",
      "        - smoothness (local variation in radius lengths)\n",
      "        - compactness (perimeter^2 / area - 1.0)\n",
      "        - concavity (severity of concave portions of the contour)\n",
      "        - concave points (number of concave portions of the contour)\n",
      "        - symmetry\n",
      "        - fractal dimension (\"coastline approximation\" - 1)\n",
      "\n",
      "        The mean, standard error, and \"worst\" or largest (mean of the three\n",
      "        worst/largest values) of these features were computed for each image,\n",
      "        resulting in 30 features.  For instance, field 0 is Mean Radius, field\n",
      "        10 is Radius SE, field 20 is Worst Radius.\n",
      "\n",
      "        - class:\n",
      "                - WDBC-Malignant\n",
      "                - WDBC-Benign\n",
      "\n",
      "    :Summary Statistics:\n",
      "\n",
      "    ===================================== ====== ======\n",
      "                                           Min    Max\n",
      "    ===================================== ====== ======\n",
      "    radius (mean):                        6.981  28.11\n",
      "    texture (mean):                       9.71   39.28\n",
      "    perimeter (mean):                     43.79  188.5\n",
      "    area (mean):                          143.5  2501.0\n",
      "    smoothness (mean):                    0.053  0.163\n",
      "    compactness (mean):                   0.019  0.345\n",
      "    concavity (mean):                     0.0    0.427\n",
      "    concave points (mean):                0.0    0.201\n",
      "    symmetry (mean):                      0.106  0.304\n",
      "    fractal dimension (mean):             0.05   0.097\n",
      "    radius (standard error):              0.112  2.873\n",
      "    texture (standard error):             0.36   4.885\n",
      "    perimeter (standard error):           0.757  21.98\n",
      "    area (standard error):                6.802  542.2\n",
      "    smoothness (standard error):          0.002  0.031\n",
      "    compactness (standard error):         0.002  0.135\n",
      "    concavity (standard error):           0.0    0.396\n",
      "    concave points (standard error):      0.0    0.053\n",
      "    symmetry (standard error):            0.008  0.079\n",
      "    fractal dimension (standard error):   0.001  0.03\n",
      "    radius (worst):                       7.93   36.04\n",
      "    texture (worst):                      12.02  49.54\n",
      "    perimeter (worst):                    50.41  251.2\n",
      "    area (worst):                         185.2  4254.0\n",
      "    smoothness (worst):                   0.071  0.223\n",
      "    compactness (worst):                  0.027  1.058\n",
      "    concavity (worst):                    0.0    1.252\n",
      "    concave points (worst):               0.0    0.291\n",
      "    symmetry (worst):                     0.156  0.664\n",
      "    fractal dimension (worst):            0.055  0.208\n",
      "    ===================================== ====== ======\n",
      "\n",
      "    :Missing Attribute Values: None\n",
      "\n",
      "    :Class Distribution: 212 - Malignant, 357 - Benign\n",
      "\n",
      "    :Creator:  Dr. William H. Wolberg, W. Nick Street, Olvi L. Mangasarian\n",
      "\n",
      "    :Donor: Nick Street\n",
      "\n",
      "    :Date: November, 1995\n",
      "\n",
      "This is a copy of UCI ML Breast Cancer Wisconsin (Diagnostic) datasets.\n",
      "https://goo.gl/U2Uwz2\n",
      "\n",
      "Features are computed from a digitized image of a fine needle\n",
      "aspirate (FNA) of a breast mass.  They describe\n",
      "characteristics of the cell nuclei present in the image.\n",
      "\n",
      "Separating plane described above was obtained using\n",
      "Multisurface Method-Tree (MSM-T) [K. P. Bennett, \"Decision Tree\n",
      "Construction Via Linear Programming.\" Proceedings of the 4th\n",
      "Midwest Artificial Intelligence and Cognitive Science Society,\n",
      "pp. 97-101, 1992], a classification method which uses linear\n",
      "programming to construct a decision tree.  Relevant features\n",
      "were selected using an exhaustive search in the space of 1-4\n",
      "features and 1-3 separating planes.\n",
      "\n",
      "The actual linear program used to obtain the separating plane\n",
      "in the 3-dimensional space is that described in:\n",
      "[K. P. Bennett and O. L. Mangasarian: \"Robust Linear\n",
      "Programming Discrimination of Two Linearly Inseparable Sets\",\n",
      "Optimization Methods and Software 1, 1992, 23-34].\n",
      "\n",
      "This database is also available through the UW CS ftp server:\n",
      "\n",
      "ftp ftp.cs.wisc.edu\n",
      "cd math-prog/cpo-dataset/machine-learn/WDBC/\n",
      "\n",
      ".. topic:: References\n",
      "\n",
      "   - W.N. Street, W.H. Wolberg and O.L. Mangasarian. Nuclear feature extraction \n",
      "     for breast tumor diagnosis. IS&T/SPIE 1993 International Symposium on \n",
      "     Electronic Imaging: Science and Technology, volume 1905, pages 861-870,\n",
      "     San Jose, CA, 1993.\n",
      "   - O.L. Mangasarian, W.N. Street and W.H. Wolberg. Breast cancer diagnosis and \n",
      "     prognosis via linear programming. Operations Research, 43(4), pages 570-577, \n",
      "     July-August 1995.\n",
      "   - W.H. Wolberg, W.N. Street, and O.L. Mangasarian. Machine learning techniques\n",
      "     to diagnose breast cancer from fine-needle aspirates. Cancer Letters 77 (1994) \n",
      "     163-171.\n"
     ]
    }
   ],
   "source": [
    "print(breast_cancer['DESCR'])"
   ]
  },
  {
   "cell_type": "code",
   "execution_count": 5,
   "metadata": {},
   "outputs": [
    {
     "data": {
      "text/plain": [
       "array([[1.799e+01, 1.038e+01, 1.228e+02, ..., 2.654e-01, 4.601e-01,\n",
       "        1.189e-01],\n",
       "       [2.057e+01, 1.777e+01, 1.329e+02, ..., 1.860e-01, 2.750e-01,\n",
       "        8.902e-02],\n",
       "       [1.969e+01, 2.125e+01, 1.300e+02, ..., 2.430e-01, 3.613e-01,\n",
       "        8.758e-02],\n",
       "       ...,\n",
       "       [1.660e+01, 2.808e+01, 1.083e+02, ..., 1.418e-01, 2.218e-01,\n",
       "        7.820e-02],\n",
       "       [2.060e+01, 2.933e+01, 1.401e+02, ..., 2.650e-01, 4.087e-01,\n",
       "        1.240e-01],\n",
       "       [7.760e+00, 2.454e+01, 4.792e+01, ..., 0.000e+00, 2.871e-01,\n",
       "        7.039e-02]])"
      ]
     },
     "execution_count": 5,
     "metadata": {},
     "output_type": "execute_result"
    }
   ],
   "source": [
    "features\n"
   ]
  },
  {
   "cell_type": "code",
   "execution_count": 6,
   "metadata": {},
   "outputs": [
    {
     "data": {
      "text/plain": [
       "array([0, 0, 0, 0, 0, 0, 0, 0, 0, 0, 0, 0, 0, 0, 0, 0, 0, 0, 0, 1, 1, 1,\n",
       "       0, 0, 0, 0, 0, 0, 0, 0, 0, 0, 0, 0, 0, 0, 0, 1, 0, 0, 0, 0, 0, 0,\n",
       "       0, 0, 1, 0, 1, 1, 1, 1, 1, 0, 0, 1, 0, 0, 1, 1, 1, 1, 0, 1, 0, 0,\n",
       "       1, 1, 1, 1, 0, 1, 0, 0, 1, 0, 1, 0, 0, 1, 1, 1, 0, 0, 1, 0, 0, 0,\n",
       "       1, 1, 1, 0, 1, 1, 0, 0, 1, 1, 1, 0, 0, 1, 1, 1, 1, 0, 1, 1, 0, 1,\n",
       "       1, 1, 1, 1, 1, 1, 1, 0, 0, 0, 1, 0, 0, 1, 1, 1, 0, 0, 1, 0, 1, 0,\n",
       "       0, 1, 0, 0, 1, 1, 0, 1, 1, 0, 1, 1, 1, 1, 0, 1, 1, 1, 1, 1, 1, 1,\n",
       "       1, 1, 0, 1, 1, 1, 1, 0, 0, 1, 0, 1, 1, 0, 0, 1, 1, 0, 0, 1, 1, 1,\n",
       "       1, 0, 1, 1, 0, 0, 0, 1, 0, 1, 0, 1, 1, 1, 0, 1, 1, 0, 0, 1, 0, 0,\n",
       "       0, 0, 1, 0, 0, 0, 1, 0, 1, 0, 1, 1, 0, 1, 0, 0, 0, 0, 1, 1, 0, 0,\n",
       "       1, 1, 1, 0, 1, 1, 1, 1, 1, 0, 0, 1, 1, 0, 1, 1, 0, 0, 1, 0, 1, 1,\n",
       "       1, 1, 0, 1, 1, 1, 1, 1, 0, 1, 0, 0, 0, 0, 0, 0, 0, 0, 0, 0, 0, 0,\n",
       "       0, 0, 1, 1, 1, 1, 1, 1, 0, 1, 0, 1, 1, 0, 1, 1, 0, 1, 0, 0, 1, 1,\n",
       "       1, 1, 1, 1, 1, 1, 1, 1, 1, 1, 1, 0, 1, 1, 0, 1, 0, 1, 1, 1, 1, 1,\n",
       "       1, 1, 1, 1, 1, 1, 1, 1, 1, 0, 1, 1, 1, 0, 1, 0, 1, 1, 1, 1, 0, 0,\n",
       "       0, 1, 1, 1, 1, 0, 1, 0, 1, 0, 1, 1, 1, 0, 1, 1, 1, 1, 1, 1, 1, 0,\n",
       "       0, 0, 1, 1, 1, 1, 1, 1, 1, 1, 1, 1, 1, 0, 0, 1, 0, 0, 0, 1, 0, 0,\n",
       "       1, 1, 1, 1, 1, 0, 1, 1, 1, 1, 1, 0, 1, 1, 1, 0, 1, 1, 0, 0, 1, 1,\n",
       "       1, 1, 1, 1, 0, 1, 1, 1, 1, 1, 1, 1, 0, 1, 1, 1, 1, 1, 0, 1, 1, 0,\n",
       "       1, 1, 1, 1, 1, 1, 1, 1, 1, 1, 1, 1, 0, 1, 0, 0, 1, 0, 1, 1, 1, 1,\n",
       "       1, 0, 1, 1, 0, 1, 0, 1, 1, 0, 1, 0, 1, 1, 1, 1, 1, 1, 1, 1, 0, 0,\n",
       "       1, 1, 1, 1, 1, 1, 0, 1, 1, 1, 1, 1, 1, 1, 1, 1, 1, 0, 1, 1, 1, 1,\n",
       "       1, 1, 1, 0, 1, 0, 1, 1, 0, 1, 1, 1, 1, 1, 0, 0, 1, 0, 1, 0, 1, 1,\n",
       "       1, 1, 1, 0, 1, 1, 0, 1, 0, 1, 0, 0, 1, 1, 1, 0, 1, 1, 1, 1, 1, 1,\n",
       "       1, 1, 1, 1, 1, 0, 1, 0, 0, 1, 1, 1, 1, 1, 1, 1, 1, 1, 1, 1, 1, 1,\n",
       "       1, 1, 1, 1, 1, 1, 1, 1, 1, 1, 1, 1, 0, 0, 0, 0, 0, 0, 1])"
      ]
     },
     "execution_count": 6,
     "metadata": {},
     "output_type": "execute_result"
    }
   ],
   "source": [
    "target"
   ]
  },
  {
   "cell_type": "code",
   "execution_count": 7,
   "metadata": {},
   "outputs": [],
   "source": [
    "target_names=breast_cancer.target_names\n",
    "labels=target_names[target]"
   ]
  },
  {
   "cell_type": "code",
   "execution_count": 8,
   "metadata": {},
   "outputs": [
    {
     "data": {
      "text/plain": [
       "array(['malignant', 'malignant', 'malignant', 'malignant', 'malignant',\n",
       "       'malignant', 'malignant', 'malignant', 'malignant', 'malignant',\n",
       "       'malignant', 'malignant', 'malignant', 'malignant', 'malignant',\n",
       "       'malignant', 'malignant', 'malignant', 'malignant', 'benign',\n",
       "       'benign', 'benign', 'malignant', 'malignant', 'malignant',\n",
       "       'malignant', 'malignant', 'malignant', 'malignant', 'malignant',\n",
       "       'malignant', 'malignant', 'malignant', 'malignant', 'malignant',\n",
       "       'malignant', 'malignant', 'benign', 'malignant', 'malignant',\n",
       "       'malignant', 'malignant', 'malignant', 'malignant', 'malignant',\n",
       "       'malignant', 'benign', 'malignant', 'benign', 'benign', 'benign',\n",
       "       'benign', 'benign', 'malignant', 'malignant', 'benign',\n",
       "       'malignant', 'malignant', 'benign', 'benign', 'benign', 'benign',\n",
       "       'malignant', 'benign', 'malignant', 'malignant', 'benign',\n",
       "       'benign', 'benign', 'benign', 'malignant', 'benign', 'malignant',\n",
       "       'malignant', 'benign', 'malignant', 'benign', 'malignant',\n",
       "       'malignant', 'benign', 'benign', 'benign', 'malignant',\n",
       "       'malignant', 'benign', 'malignant', 'malignant', 'malignant',\n",
       "       'benign', 'benign', 'benign', 'malignant', 'benign', 'benign',\n",
       "       'malignant', 'malignant', 'benign', 'benign', 'benign',\n",
       "       'malignant', 'malignant', 'benign', 'benign', 'benign', 'benign',\n",
       "       'malignant', 'benign', 'benign', 'malignant', 'benign', 'benign',\n",
       "       'benign', 'benign', 'benign', 'benign', 'benign', 'benign',\n",
       "       'malignant', 'malignant', 'malignant', 'benign', 'malignant',\n",
       "       'malignant', 'benign', 'benign', 'benign', 'malignant',\n",
       "       'malignant', 'benign', 'malignant', 'benign', 'malignant',\n",
       "       'malignant', 'benign', 'malignant', 'malignant', 'benign',\n",
       "       'benign', 'malignant', 'benign', 'benign', 'malignant', 'benign',\n",
       "       'benign', 'benign', 'benign', 'malignant', 'benign', 'benign',\n",
       "       'benign', 'benign', 'benign', 'benign', 'benign', 'benign',\n",
       "       'benign', 'malignant', 'benign', 'benign', 'benign', 'benign',\n",
       "       'malignant', 'malignant', 'benign', 'malignant', 'benign',\n",
       "       'benign', 'malignant', 'malignant', 'benign', 'benign',\n",
       "       'malignant', 'malignant', 'benign', 'benign', 'benign', 'benign',\n",
       "       'malignant', 'benign', 'benign', 'malignant', 'malignant',\n",
       "       'malignant', 'benign', 'malignant', 'benign', 'malignant',\n",
       "       'benign', 'benign', 'benign', 'malignant', 'benign', 'benign',\n",
       "       'malignant', 'malignant', 'benign', 'malignant', 'malignant',\n",
       "       'malignant', 'malignant', 'benign', 'malignant', 'malignant',\n",
       "       'malignant', 'benign', 'malignant', 'benign', 'malignant',\n",
       "       'benign', 'benign', 'malignant', 'benign', 'malignant',\n",
       "       'malignant', 'malignant', 'malignant', 'benign', 'benign',\n",
       "       'malignant', 'malignant', 'benign', 'benign', 'benign',\n",
       "       'malignant', 'benign', 'benign', 'benign', 'benign', 'benign',\n",
       "       'malignant', 'malignant', 'benign', 'benign', 'malignant',\n",
       "       'benign', 'benign', 'malignant', 'malignant', 'benign',\n",
       "       'malignant', 'benign', 'benign', 'benign', 'benign', 'malignant',\n",
       "       'benign', 'benign', 'benign', 'benign', 'benign', 'malignant',\n",
       "       'benign', 'malignant', 'malignant', 'malignant', 'malignant',\n",
       "       'malignant', 'malignant', 'malignant', 'malignant', 'malignant',\n",
       "       'malignant', 'malignant', 'malignant', 'malignant', 'malignant',\n",
       "       'benign', 'benign', 'benign', 'benign', 'benign', 'benign',\n",
       "       'malignant', 'benign', 'malignant', 'benign', 'benign',\n",
       "       'malignant', 'benign', 'benign', 'malignant', 'benign',\n",
       "       'malignant', 'malignant', 'benign', 'benign', 'benign', 'benign',\n",
       "       'benign', 'benign', 'benign', 'benign', 'benign', 'benign',\n",
       "       'benign', 'benign', 'benign', 'malignant', 'benign', 'benign',\n",
       "       'malignant', 'benign', 'malignant', 'benign', 'benign', 'benign',\n",
       "       'benign', 'benign', 'benign', 'benign', 'benign', 'benign',\n",
       "       'benign', 'benign', 'benign', 'benign', 'benign', 'malignant',\n",
       "       'benign', 'benign', 'benign', 'malignant', 'benign', 'malignant',\n",
       "       'benign', 'benign', 'benign', 'benign', 'malignant', 'malignant',\n",
       "       'malignant', 'benign', 'benign', 'benign', 'benign', 'malignant',\n",
       "       'benign', 'malignant', 'benign', 'malignant', 'benign', 'benign',\n",
       "       'benign', 'malignant', 'benign', 'benign', 'benign', 'benign',\n",
       "       'benign', 'benign', 'benign', 'malignant', 'malignant',\n",
       "       'malignant', 'benign', 'benign', 'benign', 'benign', 'benign',\n",
       "       'benign', 'benign', 'benign', 'benign', 'benign', 'benign',\n",
       "       'malignant', 'malignant', 'benign', 'malignant', 'malignant',\n",
       "       'malignant', 'benign', 'malignant', 'malignant', 'benign',\n",
       "       'benign', 'benign', 'benign', 'benign', 'malignant', 'benign',\n",
       "       'benign', 'benign', 'benign', 'benign', 'malignant', 'benign',\n",
       "       'benign', 'benign', 'malignant', 'benign', 'benign', 'malignant',\n",
       "       'malignant', 'benign', 'benign', 'benign', 'benign', 'benign',\n",
       "       'benign', 'malignant', 'benign', 'benign', 'benign', 'benign',\n",
       "       'benign', 'benign', 'benign', 'malignant', 'benign', 'benign',\n",
       "       'benign', 'benign', 'benign', 'malignant', 'benign', 'benign',\n",
       "       'malignant', 'benign', 'benign', 'benign', 'benign', 'benign',\n",
       "       'benign', 'benign', 'benign', 'benign', 'benign', 'benign',\n",
       "       'benign', 'malignant', 'benign', 'malignant', 'malignant',\n",
       "       'benign', 'malignant', 'benign', 'benign', 'benign', 'benign',\n",
       "       'benign', 'malignant', 'benign', 'benign', 'malignant', 'benign',\n",
       "       'malignant', 'benign', 'benign', 'malignant', 'benign',\n",
       "       'malignant', 'benign', 'benign', 'benign', 'benign', 'benign',\n",
       "       'benign', 'benign', 'benign', 'malignant', 'malignant', 'benign',\n",
       "       'benign', 'benign', 'benign', 'benign', 'benign', 'malignant',\n",
       "       'benign', 'benign', 'benign', 'benign', 'benign', 'benign',\n",
       "       'benign', 'benign', 'benign', 'benign', 'malignant', 'benign',\n",
       "       'benign', 'benign', 'benign', 'benign', 'benign', 'benign',\n",
       "       'malignant', 'benign', 'malignant', 'benign', 'benign',\n",
       "       'malignant', 'benign', 'benign', 'benign', 'benign', 'benign',\n",
       "       'malignant', 'malignant', 'benign', 'malignant', 'benign',\n",
       "       'malignant', 'benign', 'benign', 'benign', 'benign', 'benign',\n",
       "       'malignant', 'benign', 'benign', 'malignant', 'benign',\n",
       "       'malignant', 'benign', 'malignant', 'malignant', 'benign',\n",
       "       'benign', 'benign', 'malignant', 'benign', 'benign', 'benign',\n",
       "       'benign', 'benign', 'benign', 'benign', 'benign', 'benign',\n",
       "       'benign', 'benign', 'malignant', 'benign', 'malignant',\n",
       "       'malignant', 'benign', 'benign', 'benign', 'benign', 'benign',\n",
       "       'benign', 'benign', 'benign', 'benign', 'benign', 'benign',\n",
       "       'benign', 'benign', 'benign', 'benign', 'benign', 'benign',\n",
       "       'benign', 'benign', 'benign', 'benign', 'benign', 'benign',\n",
       "       'benign', 'benign', 'malignant', 'malignant', 'malignant',\n",
       "       'malignant', 'malignant', 'malignant', 'benign'], dtype='<U9')"
      ]
     },
     "execution_count": 8,
     "metadata": {},
     "output_type": "execute_result"
    }
   ],
   "source": [
    "labels"
   ]
  },
  {
   "cell_type": "code",
   "execution_count": 38,
   "metadata": {},
   "outputs": [
    {
     "name": "stdout",
     "output_type": "stream",
     "text": [
      "(357, 2)\n"
     ]
    }
   ],
   "source": [
    "benign_mean_concave_points=features[labels=='benign',10]\n",
    "benign_mean_symmetry=features[labels=='benign',11]\n",
    "benign=np.c_[benign_mean_concave_points,benign_mean_symmetry]\n",
    "print(benign.shape)"
   ]
  },
  {
   "cell_type": "code",
   "execution_count": 39,
   "metadata": {},
   "outputs": [
    {
     "name": "stdout",
     "output_type": "stream",
     "text": [
      "(212, 2)\n"
     ]
    }
   ],
   "source": [
    "malignant_mean_concave_points=features[labels=='malignant',10]\n",
    "malignant_mean_symmetry=features[labels=='malignant',11]\n",
    "malignant=np.c_[malignant_mean_concave_points,malignant_mean_symmetry]\n",
    "print(malignant.shape)"
   ]
  },
  {
   "cell_type": "code",
   "execution_count": 40,
   "metadata": {},
   "outputs": [
    {
     "data": {
      "text/plain": [
       "<matplotlib.collections.PathCollection at 0x1e3dabce820>"
      ]
     },
     "execution_count": 40,
     "metadata": {},
     "output_type": "execute_result"
    },
    {
     "data": {
      "image/png": "[encoded data removed]",
      "text/plain": [
       "<Figure size 432x288 with 1 Axes>"
      ]
     },
     "metadata": {
      "needs_background": "light"
     },
     "output_type": "display_data"
    }
   ],
   "source": [
    "plt.scatter(malignant[:,0],malignant[:,1],color='blue')\n",
    "plt.scatter(benign[:,0],benign[:,1],color='red')"
   ]
  },
  {
   "cell_type": "code",
   "execution_count": 41,
   "metadata": {},
   "outputs": [],
   "source": [
    "training_data=np.r_[benign,malignant]\n",
    "training_labels=np.r_[np.zeros(len(benign)),np.ones(len(malignant))]"
   ]
  },
  {
   "cell_type": "code",
   "execution_count": 42,
   "metadata": {},
   "outputs": [
    {
     "name": "stdout",
     "output_type": "stream",
     "text": [
      "(569, 2)\n"
     ]
    }
   ],
   "source": [
    "print(training_data.shape)"
   ]
  },
  {
   "cell_type": "code",
   "execution_count": 43,
   "metadata": {},
   "outputs": [
    {
     "data": {
      "text/plain": [
       "LinearSVC()"
      ]
     },
     "execution_count": 43,
     "metadata": {},
     "output_type": "execute_result"
    }
   ],
   "source": [
    "clf=svm.LinearSVC()\n",
    "clf.fit(training_data,training_labels)"
   ]
  },
  {
   "cell_type": "code",
   "execution_count": 44,
   "metadata": {},
   "outputs": [
    {
     "data": {
      "text/plain": [
       "(1099, 1101)"
      ]
     },
     "execution_count": 44,
     "metadata": {},
     "output_type": "execute_result"
    }
   ],
   "source": [
    "xx.shape"
   ]
  },
  {
   "cell_type": "code",
   "execution_count": 45,
   "metadata": {},
   "outputs": [
    {
     "data": {
      "text/plain": [
       "(1099, 1101)"
      ]
     },
     "execution_count": 45,
     "metadata": {},
     "output_type": "execute_result"
    }
   ],
   "source": [
    "yy.shape"
   ]
  },
  {
   "cell_type": "code",
   "execution_count": 46,
   "metadata": {},
   "outputs": [
    {
     "data": {
      "image/png": "[encoded data removed]",
      "text/plain": [
       "<Figure size 432x288 with 1 Axes>"
      ]
     },
     "metadata": {
      "needs_background": "light"
     },
     "output_type": "display_data"
    }
   ],
   "source": [
    "training_x_min=training_data[:,0].min()-1\n",
    "training_x_max=training_data[:,0].max()+1\n",
    "training_y_min=training_data[:,1].min()-1\n",
    "training_y_max=training_data[:,1].max()+1\n",
    "grid_interval=0.002\n",
    "xx,yy=np.meshgrid(np.arange(training_x_min,training_x_max,grid_interval),np.arange(training_y_min,training_y_max,grid_interval))\n",
    "\n",
    "Z=clf.predict(np.c_[xx.ravel(),yy.ravel()])\n",
    "Z=Z.reshape(xx.shape)\n",
    "\n",
    "plt.contourf(xx,yy,Z,cmap=plt.cm.bone,alpha=0.2)\n",
    "plt.autoscale()\n",
    "plt.grid()\n",
    "plt.scatter(malignant[:,0],malignant[:,1],color='blue')\n",
    "\n",
    "plt.scatter(benign[:,0],benign[:,1],color='red')\n",
    "plt.show()"
   ]
  },
  {
   "cell_type": "code",
   "execution_count": 47,
   "metadata": {},
   "outputs": [
    {
     "data": {
      "text/plain": [
       "array([[-0.8885, -0.8865, -0.8845, ...,  3.8675,  3.8695,  3.8715],\n",
       "       [-0.8885, -0.8865, -0.8845, ...,  3.8675,  3.8695,  3.8715],\n",
       "       [-0.8885, -0.8865, -0.8845, ...,  3.8675,  3.8695,  3.8715],\n",
       "       ...,\n",
       "       [-0.8885, -0.8865, -0.8845, ...,  3.8675,  3.8695,  3.8715],\n",
       "       [-0.8885, -0.8865, -0.8845, ...,  3.8675,  3.8695,  3.8715],\n",
       "       [-0.8885, -0.8865, -0.8845, ...,  3.8675,  3.8695,  3.8715]])"
      ]
     },
     "execution_count": 47,
     "metadata": {},
     "output_type": "execute_result"
    }
   ],
   "source": [
    "xx"
   ]
  },
  {
   "cell_type": "code",
   "execution_count": 48,
   "metadata": {},
   "outputs": [
    {
     "data": {
      "text/plain": [
       "array([[-0.6398, -0.6398, -0.6398, ..., -0.6398, -0.6398, -0.6398],\n",
       "       [-0.6378, -0.6378, -0.6378, ..., -0.6378, -0.6378, -0.6378],\n",
       "       [-0.6358, -0.6358, -0.6358, ..., -0.6358, -0.6358, -0.6358],\n",
       "       ...,\n",
       "       [ 5.8802,  5.8802,  5.8802, ...,  5.8802,  5.8802,  5.8802],\n",
       "       [ 5.8822,  5.8822,  5.8822, ...,  5.8822,  5.8822,  5.8822],\n",
       "       [ 5.8842,  5.8842,  5.8842, ...,  5.8842,  5.8842,  5.8842]])"
      ]
     },
     "execution_count": 48,
     "metadata": {},
     "output_type": "execute_result"
    }
   ],
   "source": [
    "yy"
   ]
  },
  {
   "cell_type": "code",
   "execution_count": 49,
   "metadata": {},
   "outputs": [],
   "source": [
    "def SVM_plot(clf,title):\n",
    "    training_x_min=training_data[:,0].min()-1\n",
    "    training_x_max=training_data[:,0].max()+1\n",
    "    training_y_min=training_data[:,1].min()-1\n",
    "    training_y_max=training_data[:,1].max()+1\n",
    "    grid_interval=0.02\n",
    "    xx,yy=np.meshgrid(np.arange(training_x_min,training_x_max,grid_interval),np.arange(training_y_min,training_y_max,grid_interval))\n",
    "\n",
    "    Z=clf.predict(np.c_[xx.ravel(),yy.ravel()])\n",
    "    Z=Z.reshape(xx.shape)\n",
    "\n",
    "    plt.contourf(xx,yy,Z,cmap=plt.cm.bone,alpha=0.2)\n",
    "    plt.autoscale()\n",
    "    plt.grid()\n",
    "    plt.scatter(malignant[:,0],malignant[:,1],color='blue')\n",
    "\n",
    "    plt.scatter(benign[:,0],benign[:,1],color='red')\n",
    "    plt.show()"
   ]
  },
  {
   "cell_type": "code",
   "execution_count": 50,
   "metadata": {},
   "outputs": [
    {
     "data": {
      "text/plain": [
       "array([[-0.8885, -0.8865, -0.8845, ...,  3.8675,  3.8695,  3.8715],\n",
       "       [-0.8885, -0.8865, -0.8845, ...,  3.8675,  3.8695,  3.8715],\n",
       "       [-0.8885, -0.8865, -0.8845, ...,  3.8675,  3.8695,  3.8715],\n",
       "       ...,\n",
       "       [-0.8885, -0.8865, -0.8845, ...,  3.8675,  3.8695,  3.8715],\n",
       "       [-0.8885, -0.8865, -0.8845, ...,  3.8675,  3.8695,  3.8715],\n",
       "       [-0.8885, -0.8865, -0.8845, ...,  3.8675,  3.8695,  3.8715]])"
      ]
     },
     "execution_count": 50,
     "metadata": {},
     "output_type": "execute_result"
    }
   ],
   "source": [
    "xx,yy=np.meshgrid(np.arange(training_x_min,training_x_max,grid_interval),np.arange(training_y_min,training_y_max,grid_interval))\n",
    "xx"
   ]
  },
  {
   "cell_type": "code",
   "execution_count": 51,
   "metadata": {},
   "outputs": [
    {
     "name": "stdout",
     "output_type": "stream",
     "text": [
      "C=10,gamma=1\n"
     ]
    },
    {
     "data": {
      "image/png": "[encoded data removed]",
      "text/plain": [
       "<Figure size 432x288 with 1 Axes>"
      ]
     },
     "metadata": {
      "needs_background": "light"
     },
     "output_type": "display_data"
    },
    {
     "name": "stdout",
     "output_type": "stream",
     "text": [
      "C=10,gamma=4\n"
     ]
    },
    {
     "data": {
      "image/png": "[encoded data removed]",
      "text/plain": [
       "<Figure size 432x288 with 1 Axes>"
      ]
     },
     "metadata": {
      "needs_background": "light"
     },
     "output_type": "display_data"
    },
    {
     "name": "stdout",
     "output_type": "stream",
     "text": [
      "C=100,gamma=1\n"
     ]
    },
    {
     "data": {
      "image/png": "[encoded data removed]",
      "text/plain": [
       "<Figure size 432x288 with 1 Axes>"
      ]
     },
     "metadata": {
      "needs_background": "light"
     },
     "output_type": "display_data"
    },
    {
     "name": "stdout",
     "output_type": "stream",
     "text": [
      "C=100,gamma=4\n"
     ]
    },
    {
     "data": {
      "image/png": "[encoded data removed]",
      "text/plain": [
       "<Figure size 432x288 with 1 Axes>"
      ]
     },
     "metadata": {
      "needs_background": "light"
     },
     "output_type": "display_data"
    }
   ],
   "source": [
    "C = [10,100]\n",
    "gamma = [1,4]\n",
    "\n",
    "for i in range(len(C)):\n",
    "    for j in range(len(gamma)):\n",
    "        print('C={0},gamma={1}'.format(C[i],gamma[j]))\n",
    "        clf=svm.SVC(kernel='rbf',C=100,gamma=1)\n",
    "        clf.fit(training_data,training_labels)\n",
    "        SVM_plot(clf,'rbf-C={0},gamma={1}'.format(C[i],gamma[j]))"
   ]
  },
  {
   "cell_type": "markdown",
   "metadata": {},
   "source": [
    "## Step2. 區分訓練集與測試集"
   ]
  },
  {
   "cell_type": "code",
   "execution_count": 52,
   "metadata": {},
   "outputs": [
    {
     "data": {
      "image/png": "[encoded data removed]",
      "text/plain": [
       "<Figure size 432x288 with 1 Axes>"
      ]
     },
     "metadata": {
      "needs_background": "light"
     },
     "output_type": "display_data"
    }
   ],
   "source": [
    "clf=svm.SVC(kernel='rbf',C=100)\n",
    "clf.fit(training_data,training_labels)\n",
    "SVM_plot(clf,'rbf')"
   ]
  },
  {
   "cell_type": "code",
   "execution_count": 65,
   "metadata": {},
   "outputs": [],
   "source": [
    "training_data_train,training_data_test,training_labels_train,training_labels_test = train_test_split(training_data,training_labels,test_size=0.3,random_state=0)"
   ]
  },
  {
   "cell_type": "code",
   "execution_count": 67,
   "metadata": {},
   "outputs": [
    {
     "data": {
      "text/plain": [
       "array([[0.6874, 1.041 ],\n",
       "       [0.2324, 0.6332],\n",
       "       [0.1485, 1.563 ],\n",
       "       [0.3446, 0.7395],\n",
       "       [0.2222, 0.8652],\n",
       "       [0.3961, 1.044 ],\n",
       "       [0.5262, 0.8522],\n",
       "       [0.2868, 1.143 ],\n",
       "       [0.2005, 0.8163],\n",
       "       [0.4057, 1.153 ],\n",
       "       [0.4537, 0.8733],\n",
       "       [0.1408, 0.4607],\n",
       "       [0.2134, 0.3628],\n",
       "       [0.3031, 1.385 ],\n",
       "       [0.4834, 1.046 ],\n",
       "       [0.3013, 1.879 ],\n",
       "       [0.645 , 2.105 ],\n",
       "       [0.4489, 2.508 ],\n",
       "       [0.2656, 1.974 ],\n",
       "       [0.2843, 1.908 ],\n",
       "       [0.2338, 1.353 ],\n",
       "       [0.1872, 0.9234],\n",
       "       [0.3061, 1.069 ],\n",
       "       [0.3191, 1.249 ],\n",
       "       [0.2954, 0.8836],\n",
       "       [0.3389, 1.439 ],\n",
       "       [0.2244, 0.895 ],\n",
       "       [0.4302, 2.878 ],\n",
       "       [0.355 , 1.534 ],\n",
       "       [0.2367, 1.38  ],\n",
       "       [0.286 , 1.019 ],\n",
       "       [0.1818, 2.542 ],\n",
       "       [0.346 , 1.336 ],\n",
       "       [0.6061, 2.643 ],\n",
       "       [0.2023, 0.685 ],\n",
       "       [0.3795, 1.187 ],\n",
       "       [0.4041, 0.5503],\n",
       "       [0.6361, 1.001 ],\n",
       "       [0.2497, 1.493 ],\n",
       "       [0.3642, 1.04  ],\n",
       "       [0.4426, 1.169 ],\n",
       "       [0.1988, 0.496 ],\n",
       "       [0.2196, 1.479 ],\n",
       "       [1.111 , 1.161 ],\n",
       "       [0.253 , 0.8749],\n",
       "       [0.2602, 1.205 ],\n",
       "       [0.2577, 0.4757],\n",
       "       [0.2623, 1.204 ],\n",
       "       [0.8068, 0.9017],\n",
       "       [0.1458, 0.905 ],\n",
       "       [0.3117, 0.8155],\n",
       "       [0.3677, 1.471 ],\n",
       "       [0.286 , 2.11  ],\n",
       "       [0.2864, 1.44  ],\n",
       "       [0.1903, 0.5735],\n",
       "       [0.6997, 1.475 ],\n",
       "       [0.2315, 0.5391],\n",
       "       [0.6986, 0.9901],\n",
       "       [0.3274, 1.194 ],\n",
       "       [0.4375, 1.232 ],\n",
       "       [0.1267, 0.6793],\n",
       "       [0.1639, 1.14  ],\n",
       "       [0.1911, 0.5477],\n",
       "       [0.7548, 1.288 ],\n",
       "       [0.2185, 0.8561],\n",
       "       [0.1822, 0.7285],\n",
       "       [0.2271, 1.255 ],\n",
       "       [0.2575, 0.8073],\n",
       "       [0.2382, 0.8355],\n",
       "       [0.1716, 0.7151],\n",
       "       [0.1563, 0.9567],\n",
       "       [0.2787, 0.6205],\n",
       "       [0.1814, 0.6412],\n",
       "       [0.2456, 0.7339],\n",
       "       [1.046 , 0.976 ],\n",
       "       [0.4266, 0.9489],\n",
       "       [0.5366, 0.8561],\n",
       "       [0.2636, 0.7294],\n",
       "       [0.2742, 1.39  ],\n",
       "       [0.2047, 0.4801],\n",
       "       [0.2621, 1.539 ],\n",
       "       [0.2375, 1.28  ],\n",
       "       [0.1482, 0.538 ],\n",
       "       [0.163 , 1.601 ],\n",
       "       [0.5959, 0.6342],\n",
       "       [0.4101, 1.014 ],\n",
       "       [0.5169, 2.079 ],\n",
       "       [0.6534, 1.506 ],\n",
       "       [0.4347, 1.057 ],\n",
       "       [0.236 , 0.6656],\n",
       "       [0.6592, 1.059 ],\n",
       "       [0.2711, 0.3621],\n",
       "       [0.3331, 1.961 ],\n",
       "       [0.2473, 0.5679],\n",
       "       [0.2244, 0.6864],\n",
       "       [0.5449, 0.9225],\n",
       "       [0.3186, 1.336 ],\n",
       "       [0.4455, 3.647 ],\n",
       "       [0.243 , 1.01  ],\n",
       "       [0.3106, 1.51  ],\n",
       "       [0.361 , 1.05  ],\n",
       "       [0.3354, 2.324 ],\n",
       "       [1.058 , 0.9635],\n",
       "       [0.7128, 1.581 ],\n",
       "       [0.3265, 0.6594],\n",
       "       [0.2467, 1.217 ],\n",
       "       [0.4226, 1.15  ],\n",
       "       [0.3962, 0.6538],\n",
       "       [0.2569, 0.4981],\n",
       "       [0.1924, 0.6417],\n",
       "       [0.3906, 0.9306],\n",
       "       [1.004 , 0.8208],\n",
       "       [0.3163, 1.304 ],\n",
       "       [0.7311, 1.748 ],\n",
       "       [0.9811, 1.666 ],\n",
       "       [0.2385, 0.8265],\n",
       "       [0.8529, 1.849 ],\n",
       "       [0.5079, 1.247 ],\n",
       "       [0.8811, 1.77  ],\n",
       "       [0.2191, 0.6946],\n",
       "       [0.306 , 1.657 ],\n",
       "       [1.207 , 1.051 ],\n",
       "       [0.5375, 2.927 ],\n",
       "       [0.1767, 1.46  ],\n",
       "       [2.873 , 1.476 ],\n",
       "       [0.2873, 0.9173],\n",
       "       [0.2773, 0.9768],\n",
       "       [0.2841, 1.652 ],\n",
       "       [0.4681, 1.627 ],\n",
       "       [0.2877, 0.948 ],\n",
       "       [0.2034, 1.166 ],\n",
       "       [0.2253, 0.6457],\n",
       "       [0.2957, 1.363 ],\n",
       "       [0.4743, 0.7859],\n",
       "       [0.2152, 0.8301],\n",
       "       [0.2067, 0.4706],\n",
       "       [0.2871, 0.8937],\n",
       "       [0.2335, 0.9097],\n",
       "       [0.4007, 1.317 ],\n",
       "       [0.2113, 0.5996],\n",
       "       [0.3063, 1.002 ],\n",
       "       [0.2986, 0.5906],\n",
       "       [0.5925, 0.6863],\n",
       "       [0.552 , 1.072 ],\n",
       "       [0.258 , 1.166 ],\n",
       "       [0.599 , 1.391 ],\n",
       "       [0.3028, 0.6683],\n",
       "       [0.3345, 0.8902],\n",
       "       [0.6009, 1.398 ],\n",
       "       [0.4203, 0.7383],\n",
       "       [0.2054, 0.4956],\n",
       "       [0.3665, 0.7693],\n",
       "       [0.2387, 0.6372],\n",
       "       [0.2684, 1.409 ],\n",
       "       [0.335 , 2.043 ],\n",
       "       [0.3344, 1.108 ],\n",
       "       [0.2194, 1.19  ],\n",
       "       [0.3628, 1.49  ],\n",
       "       [0.2143, 0.7712],\n",
       "       [0.3511, 0.9527],\n",
       "       [0.7582, 1.017 ],\n",
       "       [0.9289, 1.465 ],\n",
       "       [0.403 , 0.7747],\n",
       "       [1.215 , 1.545 ],\n",
       "       [0.3305, 1.067 ],\n",
       "       [0.2323, 1.636 ],\n",
       "       [0.3713, 1.154 ],\n",
       "       [0.4789, 2.06  ],\n",
       "       [0.3921, 1.207 ],\n",
       "       [0.2241, 1.508 ],\n",
       "       [0.2298, 0.9988],\n",
       "       [0.3721, 1.111 ],\n",
       "       [0.2092, 0.6509],\n",
       "       [0.7049, 1.332 ],\n",
       "       [1.088 , 1.41  ],\n",
       "       [0.1811, 0.7959],\n",
       "       [0.6643, 1.361 ],\n",
       "       [0.2541, 0.6218],\n",
       "       [0.2978, 1.502 ],\n",
       "       [0.5539, 1.56  ],\n",
       "       [0.4388, 0.7096],\n",
       "       [0.3278, 1.059 ],\n",
       "       [0.4751, 1.528 ],\n",
       "       [0.2959, 0.679 ],\n",
       "       [0.5619, 1.268 ],\n",
       "       [0.1642, 1.031 ],\n",
       "       [0.2102, 0.4336],\n",
       "       [0.4209, 0.6583],\n",
       "       [0.6642, 0.8561],\n",
       "       [0.8361, 1.481 ],\n",
       "       [0.1833, 0.5308],\n",
       "       [1.167 , 1.352 ],\n",
       "       [0.3428, 0.3981],\n",
       "       [0.2608, 0.873 ],\n",
       "       [0.6137, 0.6575],\n",
       "       [0.2527, 0.7786],\n",
       "       [0.3342, 1.781 ],\n",
       "       [0.2574, 1.376 ],\n",
       "       [0.4202, 1.322 ],\n",
       "       [0.3251, 2.174 ],\n",
       "       [0.2666, 0.8309],\n",
       "       [0.3276, 1.486 ],\n",
       "       [0.2136, 1.332 ],\n",
       "       [0.2345, 1.219 ],\n",
       "       [1.37  , 1.213 ],\n",
       "       [0.2449, 1.066 ],\n",
       "       [0.3368, 2.777 ],\n",
       "       [0.306 , 0.7213],\n",
       "       [0.5702, 1.023 ],\n",
       "       [0.1199, 0.8944],\n",
       "       [0.2315, 0.9112],\n",
       "       [0.4053, 1.809 ],\n",
       "       [0.1728, 0.4064],\n",
       "       [0.7275, 1.193 ],\n",
       "       [0.7036, 1.268 ],\n",
       "       [0.4384, 1.907 ],\n",
       "       [0.5158, 1.441 ],\n",
       "       [0.3478, 1.018 ],\n",
       "       [0.2513, 0.504 ],\n",
       "       [0.3719, 2.612 ],\n",
       "       [0.1415, 0.9671],\n",
       "       [0.2357, 1.299 ],\n",
       "       [0.3283, 0.828 ],\n",
       "       [0.3975, 0.8285],\n",
       "       [0.3309, 1.925 ],\n",
       "       [0.3242, 0.6612],\n",
       "       [0.5692, 1.073 ],\n",
       "       [0.7888, 0.7975],\n",
       "       [0.286 , 1.016 ],\n",
       "       [0.2318, 0.4966],\n",
       "       [0.1807, 0.6931],\n",
       "       [0.23  , 0.669 ],\n",
       "       [0.2351, 2.011 ],\n",
       "       [0.5959, 1.202 ],\n",
       "       [0.2957, 1.978 ],\n",
       "       [0.1913, 0.9027],\n",
       "       [0.2563, 1.194 ],\n",
       "       [0.6298, 0.7629],\n",
       "       [0.2913, 1.389 ],\n",
       "       [0.1186, 1.182 ],\n",
       "       [0.3563, 0.4833],\n",
       "       [0.2254, 1.108 ],\n",
       "       [0.2796, 0.9622],\n",
       "       [0.3834, 1.003 ],\n",
       "       [0.1998, 0.6068],\n",
       "       [1.009 , 0.9245],\n",
       "       [0.1851, 1.341 ],\n",
       "       [0.7474, 1.016 ],\n",
       "       [0.4565, 1.29  ],\n",
       "       [0.4212, 1.433 ],\n",
       "       [0.2368, 0.8732],\n",
       "       [0.2067, 0.8745],\n",
       "       [0.2204, 1.006 ],\n",
       "       [0.3093, 0.8568],\n",
       "       [0.3408, 1.924 ],\n",
       "       [0.4467, 0.7732],\n",
       "       [0.3438, 1.14  ],\n",
       "       [1.172 , 1.617 ],\n",
       "       [0.1839, 2.342 ],\n",
       "       [0.4697, 1.147 ],\n",
       "       [0.2562, 1.038 ],\n",
       "       [0.4101, 1.74  ],\n",
       "       [0.1499, 0.4875],\n",
       "       [0.2949, 1.656 ],\n",
       "       [0.1844, 0.9429],\n",
       "       [0.2121, 1.169 ],\n",
       "       [0.425 , 0.8098],\n",
       "       [0.386 , 1.198 ],\n",
       "       [0.1816, 0.7656],\n",
       "       [0.163 , 0.3871],\n",
       "       [0.4331, 1.001 ],\n",
       "       [0.2619, 2.015 ],\n",
       "       [0.3661, 1.511 ],\n",
       "       [0.2713, 1.217 ],\n",
       "       [0.4076, 1.093 ],\n",
       "       [0.2142, 0.6549],\n",
       "       [0.404 , 1.214 ],\n",
       "       [0.4956, 1.156 ],\n",
       "       [0.524 , 1.189 ],\n",
       "       [0.1731, 1.142 ],\n",
       "       [0.1912, 1.705 ],\n",
       "       [0.1924, 1.571 ],\n",
       "       [0.4222, 0.8092],\n",
       "       [0.3384, 1.343 ],\n",
       "       [0.2344, 0.9861],\n",
       "       [0.3135, 2.426 ],\n",
       "       [0.9806, 0.5505],\n",
       "       [0.2929, 0.857 ],\n",
       "       [0.1689, 1.15  ],\n",
       "       [0.8161, 2.129 ],\n",
       "       [0.3897, 1.077 ],\n",
       "       [0.4312, 1.022 ],\n",
       "       [1.008 , 0.6999],\n",
       "       [0.3699, 1.15  ],\n",
       "       [0.2025, 0.4402],\n",
       "       [0.1504, 1.685 ],\n",
       "       [0.4768, 0.9644],\n",
       "       [0.2525, 1.239 ],\n",
       "       [0.726 , 1.595 ],\n",
       "       [0.6917, 1.127 ],\n",
       "       [0.3198, 1.489 ],\n",
       "       [0.338 , 2.509 ],\n",
       "       [0.2655, 1.095 ],\n",
       "       [0.5243, 1.802 ],\n",
       "       [0.5706, 1.457 ],\n",
       "       [0.3424, 1.803 ],\n",
       "       [0.4033, 1.078 ],\n",
       "       [0.2366, 1.428 ],\n",
       "       [0.2699, 0.7886],\n",
       "       [0.6003, 0.8225],\n",
       "       [0.2213, 1.285 ],\n",
       "       [0.4255, 1.178 ],\n",
       "       [0.5058, 0.9849],\n",
       "       [0.3971, 0.8282],\n",
       "       [0.6242, 0.9209],\n",
       "       [0.2137, 1.342 ],\n",
       "       [0.5558, 0.6062],\n",
       "       [0.2199, 2.239 ],\n",
       "       [0.1532, 0.781 ],\n",
       "       [0.3129, 0.8413],\n",
       "       [0.1588, 0.5733],\n",
       "       [0.2976, 1.966 ],\n",
       "       [0.9555, 3.568 ],\n",
       "       [0.3892, 1.046 ],\n",
       "       [0.3539, 4.885 ],\n",
       "       [0.5381, 1.2   ],\n",
       "       [0.1942, 0.9086],\n",
       "       [0.5079, 0.8737],\n",
       "       [0.316 , 0.9115],\n",
       "       [0.4653, 1.911 ],\n",
       "       [0.8245, 2.664 ],\n",
       "       [0.372 , 0.8423],\n",
       "       [0.3132, 0.9789],\n",
       "       [0.1144, 1.023 ],\n",
       "       [0.4727, 1.24  ],\n",
       "       [0.1938, 0.6123],\n",
       "       [0.1745, 0.489 ],\n",
       "       [0.3416, 1.312 ],\n",
       "       [0.647 , 1.331 ],\n",
       "       [0.2522, 1.045 ],\n",
       "       [0.207 , 1.238 ],\n",
       "       [0.4866, 1.905 ],\n",
       "       [0.184 , 1.532 ],\n",
       "       [0.1302, 0.7198],\n",
       "       [0.3118, 0.9227],\n",
       "       [0.1166, 0.4957],\n",
       "       [0.1584, 0.6124],\n",
       "       [0.2204, 0.7873],\n",
       "       [0.6289, 0.6633],\n",
       "       [0.1859, 1.926 ],\n",
       "       [0.2073, 1.805 ],\n",
       "       [0.231 , 1.005 ],\n",
       "       [0.2428, 1.642 ],\n",
       "       [0.3316, 0.9264],\n",
       "       [0.1759, 0.9938],\n",
       "       [0.2498, 1.216 ],\n",
       "       [0.3419, 1.678 ],\n",
       "       [0.7364, 1.048 ],\n",
       "       [0.403 , 1.424 ],\n",
       "       [0.334 , 0.6857],\n",
       "       [0.2542, 1.079 ],\n",
       "       [0.1781, 1.687 ],\n",
       "       [1.292 , 2.454 ],\n",
       "       [0.4309, 1.068 ],\n",
       "       [0.8191, 1.931 ],\n",
       "       [0.338 , 1.916 ],\n",
       "       [0.5115, 0.7372],\n",
       "       [0.3491, 0.7706],\n",
       "       [0.4357, 1.073 ],\n",
       "       [0.3371, 0.7476],\n",
       "       [0.1753, 1.027 ],\n",
       "       [0.5462, 1.511 ],\n",
       "       [0.9291, 1.152 ],\n",
       "       [2.547 , 1.306 ],\n",
       "       [0.256 , 1.554 ],\n",
       "       [0.1555, 0.5762],\n",
       "       [0.3908, 0.9238],\n",
       "       [0.2094, 0.7636],\n",
       "       [0.2684, 0.5664],\n",
       "       [0.1931, 0.9223],\n",
       "       [0.3037, 1.284 ],\n",
       "       [0.6896, 1.342 ],\n",
       "       [0.2589, 1.503 ],\n",
       "       [0.22  , 0.9823],\n",
       "       [0.2208, 0.9533],\n",
       "       [0.21  , 0.9505],\n",
       "       [0.2889, 0.9899],\n",
       "       [0.5904, 1.216 ],\n",
       "       [0.8426, 1.199 ],\n",
       "       [0.4165, 0.6237],\n",
       "       [0.3704, 0.8249],\n",
       "       [0.7392, 1.321 ],\n",
       "       [0.2251, 0.7815],\n",
       "       [0.281 , 0.8135],\n",
       "       [0.2273, 0.6329],\n",
       "       [0.7456, 0.7869],\n",
       "       [0.3534, 0.6724],\n",
       "       [0.9915, 0.9004]])"
      ]
     },
     "execution_count": 67,
     "metadata": {},
     "output_type": "execute_result"
    }
   ],
   "source": [
    "training_data_train"
   ]
  },
  {
   "cell_type": "code",
   "execution_count": 68,
   "metadata": {},
   "outputs": [
    {
     "data": {
      "text/plain": [
       "array([[0.6422, 1.53  ],\n",
       "       [0.6191, 2.112 ],\n",
       "       [0.3197, 1.426 ],\n",
       "       [0.2239, 1.139 ],\n",
       "       [0.1803, 1.222 ],\n",
       "       [0.5204, 1.324 ],\n",
       "       [0.439 , 1.012 ],\n",
       "       [0.1779, 1.03  ],\n",
       "       [0.51  , 1.679 ],\n",
       "       [0.28  , 1.467 ],\n",
       "       [0.2895, 1.851 ],\n",
       "       [0.2451, 0.7655],\n",
       "       [0.9317, 1.885 ],\n",
       "       [0.2512, 1.786 ],\n",
       "       [0.4245, 1.268 ],\n",
       "       [0.2212, 1.042 ],\n",
       "       [0.3538, 1.13  ],\n",
       "       [0.4993, 1.798 ],\n",
       "       [0.4615, 0.9197],\n",
       "       [0.3077, 1.621 ],\n",
       "       [0.295 , 1.373 ],\n",
       "       [0.2446, 0.4334],\n",
       "       [0.7661, 0.78  ],\n",
       "       [0.2562, 0.9858],\n",
       "       [0.37  , 1.033 ],\n",
       "       [0.3105, 0.8339],\n",
       "       [0.1746, 1.305 ],\n",
       "       [0.3582, 2.067 ],\n",
       "       [0.5835, 1.377 ],\n",
       "       [0.2351, 1.597 ],\n",
       "       [0.2144, 0.9961],\n",
       "       [0.1852, 0.7477],\n",
       "       [0.8601, 1.48  ],\n",
       "       [0.1904, 0.5293],\n",
       "       [0.2719, 1.35  ],\n",
       "       [0.422 , 1.909 ],\n",
       "       [0.3639, 1.265 ],\n",
       "       [0.4505, 1.197 ],\n",
       "       [0.4332, 1.265 ],\n",
       "       [0.2388, 2.904 ],\n",
       "       [0.519 , 2.91  ],\n",
       "       [0.5435, 0.7339],\n",
       "       [0.3249, 0.9591],\n",
       "       [0.3147, 0.9857],\n",
       "       [0.5858, 0.8554],\n",
       "       [0.9622, 1.026 ],\n",
       "       [0.2571, 1.081 ],\n",
       "       [0.1916, 1.555 ],\n",
       "       [0.243 , 1.152 ],\n",
       "       [0.4098, 2.265 ],\n",
       "       [0.1559, 0.5796],\n",
       "       [0.3602, 1.478 ],\n",
       "       [0.6412, 2.293 ],\n",
       "       [0.5648, 1.93  ],\n",
       "       [0.3237, 1.473 ],\n",
       "       [0.2116, 1.36  ],\n",
       "       [0.3796, 1.743 ],\n",
       "       [0.3473, 0.9209],\n",
       "       [0.2963, 1.563 ],\n",
       "       [0.2621, 1.232 ],\n",
       "       [0.2543, 1.363 ],\n",
       "       [0.2818, 0.7614],\n",
       "       [0.3645, 1.492 ],\n",
       "       [0.1692, 0.6674],\n",
       "       [0.5296, 1.667 ],\n",
       "       [0.9553, 1.186 ],\n",
       "       [0.522 , 0.8121],\n",
       "       [0.2747, 1.203 ],\n",
       "       [0.1402, 0.5417],\n",
       "       [0.25  , 0.7574],\n",
       "       [0.2104, 0.967 ],\n",
       "       [0.2727, 0.9429],\n",
       "       [0.3276, 1.127 ],\n",
       "       [0.4825, 1.03  ],\n",
       "       [0.3336, 1.86  ],\n",
       "       [0.6362, 1.305 ],\n",
       "       [0.2114, 1.027 ],\n",
       "       [0.3857, 1.428 ],\n",
       "       [0.2441, 2.09  ],\n",
       "       [1.214 , 2.188 ],\n",
       "       [0.7655, 2.463 ],\n",
       "       [0.184 , 1.065 ],\n",
       "       [0.1153, 0.6745],\n",
       "       [0.1344, 1.083 ],\n",
       "       [0.1507, 1.583 ],\n",
       "       [0.3778, 2.2   ],\n",
       "       [0.2744, 1.39  ],\n",
       "       [0.1665, 0.5864],\n",
       "       [0.2535, 1.354 ],\n",
       "       [0.4564, 1.075 ],\n",
       "       [0.2505, 1.025 ],\n",
       "       [0.1783, 0.4125],\n",
       "       [0.8973, 1.474 ],\n",
       "       [0.2027, 1.851 ],\n",
       "       [0.4204, 2.22  ],\n",
       "       [0.3567, 1.922 ],\n",
       "       [0.5495, 0.6636],\n",
       "       [0.6965, 1.747 ],\n",
       "       [0.7576, 1.509 ],\n",
       "       [0.1532, 0.469 ],\n",
       "       [0.271 , 0.7927],\n",
       "       [0.2927, 0.8907],\n",
       "       [0.1312, 0.3602],\n",
       "       [0.8336, 1.736 ],\n",
       "       [0.4311, 2.261 ],\n",
       "       [1.072 , 1.743 ],\n",
       "       [0.8337, 1.593 ],\n",
       "       [0.5781, 0.9168],\n",
       "       [0.2204, 0.6221],\n",
       "       [0.1194, 1.434 ],\n",
       "       [0.9761, 1.892 ],\n",
       "       [0.4953, 1.199 ],\n",
       "       [0.9948, 0.8509],\n",
       "       [0.4709, 0.9951],\n",
       "       [0.272 , 1.047 ],\n",
       "       [0.5506, 1.214 ],\n",
       "       [0.3577, 1.281 ],\n",
       "       [0.3534, 1.326 ],\n",
       "       [0.3977, 1.033 ],\n",
       "       [0.8307, 1.466 ],\n",
       "       [0.3776, 1.35  ],\n",
       "       [0.5461, 2.635 ],\n",
       "       [0.1707, 0.7615],\n",
       "       [0.2545, 0.9832],\n",
       "       [0.2976, 1.599 ],\n",
       "       [0.4207, 1.845 ],\n",
       "       [0.1855, 0.6881],\n",
       "       [0.2084, 1.35  ],\n",
       "       [0.5659, 1.408 ],\n",
       "       [0.7923, 1.045 ],\n",
       "       [0.8348, 1.633 ],\n",
       "       [0.1601, 0.8225],\n",
       "       [0.2577, 1.095 ],\n",
       "       [0.1115, 1.231 ],\n",
       "       [0.2865, 1.678 ],\n",
       "       [0.2182, 0.6232],\n",
       "       [0.4674, 1.375 ],\n",
       "       [0.6226, 2.284 ],\n",
       "       [0.1967, 1.387 ],\n",
       "       [0.2239, 1.647 ],\n",
       "       [0.6107, 2.836 ],\n",
       "       [0.5018, 1.693 ],\n",
       "       [0.1601, 1.43  ],\n",
       "       [0.2431, 0.9462],\n",
       "       [0.3777, 1.462 ],\n",
       "       [1.176 , 1.256 ],\n",
       "       [0.3152, 0.7884],\n",
       "       [0.2419, 1.278 ],\n",
       "       [0.2409, 1.367 ],\n",
       "       [1.095 , 0.9053],\n",
       "       [0.3141, 3.896 ],\n",
       "       [0.121 , 0.8927],\n",
       "       [0.1935, 1.962 ],\n",
       "       [0.4157, 1.627 ],\n",
       "       [0.1705, 0.5066],\n",
       "       [0.2406, 0.7394],\n",
       "       [1.296 , 1.452 ],\n",
       "       [0.3927, 0.8429],\n",
       "       [1.509 , 3.12  ],\n",
       "       [0.213 , 0.5914],\n",
       "       [0.5196, 1.918 ],\n",
       "       [0.2784, 1.768 ],\n",
       "       [0.8113, 1.4   ],\n",
       "       [1.    , 0.6336],\n",
       "       [0.2479, 0.9195],\n",
       "       [0.3833, 0.9078],\n",
       "       [0.4062, 1.21  ],\n",
       "       [0.5907, 1.041 ],\n",
       "       [0.3414, 1.309 ],\n",
       "       [0.7572, 0.7813],\n",
       "       [1.291 , 0.7452]])"
      ]
     },
     "execution_count": 68,
     "metadata": {},
     "output_type": "execute_result"
    }
   ],
   "source": [
    "training_data_test"
   ]
  },
  {
   "cell_type": "code",
   "execution_count": 69,
   "metadata": {},
   "outputs": [
    {
     "data": {
      "text/plain": [
       "array([1., 0., 0., 0., 0., 0., 0., 0., 0., 0., 1., 0., 0., 0., 0., 0., 1.,\n",
       "       0., 0., 0., 0., 0., 1., 0., 0., 0., 0., 0., 0., 1., 1., 0., 0., 0.,\n",
       "       0., 1., 1., 1., 0., 0., 0., 0., 0., 1., 1., 1., 1., 0., 1., 0., 0.,\n",
       "       0., 1., 0., 0., 1., 0., 1., 0., 1., 0., 0., 0., 1., 0., 0., 0., 0.,\n",
       "       0., 0., 0., 1., 0., 0., 1., 1., 1., 0., 0., 0., 0., 0., 0., 0., 1.,\n",
       "       0., 0., 1., 0., 0., 1., 1., 1., 1., 0., 1., 0., 0., 0., 0., 0., 0.,\n",
       "       1., 1., 0., 0., 1., 0., 0., 0., 1., 1., 0., 0., 1., 1., 1., 0., 0.,\n",
       "       0., 0., 1., 0., 0., 1., 1., 0., 0., 1., 0., 0., 0., 0., 1., 0., 0.,\n",
       "       1., 0., 1., 0., 1., 1., 1., 1., 0., 1., 0., 1., 1., 1., 1., 0., 0.,\n",
       "       0., 0., 0., 0., 0., 0., 0., 1., 1., 1., 1., 0., 0., 0., 0., 0., 0.,\n",
       "       1., 0., 1., 1., 1., 0., 1., 0., 0., 1., 1., 0., 1., 1., 0., 0., 0.,\n",
       "       1., 1., 1., 0., 1., 0., 0., 1., 0., 0., 0., 0., 0., 0., 0., 0., 0.,\n",
       "       1., 0., 0., 0., 1., 0., 0., 1., 0., 1., 1., 0., 0., 0., 0., 0., 0.,\n",
       "       0., 1., 0., 0., 0., 1., 1., 0., 0., 0., 0., 0., 1., 0., 0., 1., 1.,\n",
       "       0., 0., 0., 0., 1., 0., 0., 1., 0., 1., 1., 1., 0., 0., 0., 1., 0.,\n",
       "       1., 0., 1., 0., 1., 0., 0., 0., 0., 0., 1., 1., 1., 0., 0., 1., 0.,\n",
       "       0., 0., 0., 0., 0., 1., 1., 0., 0., 0., 0., 0., 0., 0., 1., 0., 0.,\n",
       "       1., 1., 1., 1., 1., 0., 0., 1., 0., 1., 1., 0., 0., 0., 1., 1., 0.,\n",
       "       1., 1., 0., 1., 0., 1., 1., 1., 1., 0., 1., 0., 0., 1., 0., 0., 1.,\n",
       "       0., 0., 0., 0., 1., 0., 0., 0., 0., 0., 0., 1., 1., 0., 0., 1., 0.,\n",
       "       0., 0., 0., 0., 0., 0., 0., 0., 1., 0., 0., 1., 0., 0., 0., 0., 0.,\n",
       "       1., 0., 1., 0., 0., 1., 0., 1., 0., 0., 0., 1., 1., 0., 0., 1., 1.,\n",
       "       0., 0., 1., 0., 0., 0., 1., 1., 0., 0., 1., 0., 0., 1., 1., 0., 1.,\n",
       "       1., 0., 0., 0., 1., 0., 1.])"
      ]
     },
     "execution_count": 69,
     "metadata": {},
     "output_type": "execute_result"
    }
   ],
   "source": [
    "training_labels_train"
   ]
  },
  {
   "cell_type": "markdown",
   "metadata": {},
   "source": [
    "## Step3. 建模"
   ]
  },
  {
   "cell_type": "code",
   "execution_count": 70,
   "metadata": {},
   "outputs": [
    {
     "data": {
      "text/plain": [
       "SVC(C=10000, gamma='auto')"
      ]
     },
     "execution_count": 70,
     "metadata": {},
     "output_type": "execute_result"
    }
   ],
   "source": [
    "clf=svm.SVC(kernel='rbf',gamma='auto',C=10000)\n",
    "clf.fit(training_data_train,training_labels_train)"
   ]
  },
  {
   "cell_type": "code",
   "execution_count": 71,
   "metadata": {},
   "outputs": [
    {
     "data": {
      "image/png": "[encoded data removed]",
      "text/plain": [
       "<Figure size 432x288 with 1 Axes>"
      ]
     },
     "metadata": {
      "needs_background": "light"
     },
     "output_type": "display_data"
    }
   ],
   "source": [
    "clf=svm.SVC(kernel='rbf',C=10000)\n",
    "clf.fit(training_data_train,training_labels_train)\n",
    "SVM_plot(clf,'rbf')"
   ]
  },
  {
   "cell_type": "code",
   "execution_count": null,
   "metadata": {},
   "outputs": [],
   "source": []
  },
  {
   "cell_type": "markdown",
   "metadata": {},
   "source": [
    "## Step4. 預測\n",
    "\n",
    "```\n",
    "\n",
    "```\n"
   ]
  },
  {
   "cell_type": "code",
   "execution_count": 73,
   "metadata": {},
   "outputs": [
    {
     "data": {
      "text/plain": [
       "array([1., 1., 0., 0., 0., 1., 1., 0., 0., 0., 0., 0., 1., 0., 0., 0., 0.,\n",
       "       0., 1., 0., 0., 0., 1., 0., 0., 0., 0., 0., 1., 0., 0., 0., 1., 0.,\n",
       "       0., 0., 0., 0., 0., 0., 0., 1., 0., 0., 1., 1., 0., 0., 0., 0., 0.,\n",
       "       0., 1., 0., 0., 0., 0., 0., 0., 0., 0., 0., 0., 0., 0., 1., 1., 0.,\n",
       "       0., 0., 0., 0., 0., 1., 0., 1., 0., 0., 0., 1., 1., 0., 0., 0., 0.,\n",
       "       0., 0., 0., 0., 1., 0., 0., 1., 0., 0., 0., 1., 0., 1., 0., 0., 0.,\n",
       "       0., 1., 0., 1., 1., 1., 0., 0., 1., 1., 1., 1., 0., 1., 0., 0., 0.,\n",
       "       1., 0., 0., 0., 0., 0., 0., 0., 0., 1., 1., 1., 0., 0., 0., 0., 0.,\n",
       "       0., 1., 0., 0., 0., 0., 0., 0., 0., 1., 0., 0., 0., 1., 1., 0., 0.,\n",
       "       0., 0., 0., 1., 0., 1., 0., 0., 0., 1., 1., 0., 0., 0., 1., 0., 1.,\n",
       "       1.])"
      ]
     },
     "execution_count": 73,
     "metadata": {},
     "output_type": "execute_result"
    }
   ],
   "source": [
    "clf.predict(training_data_test)"
   ]
  },
  {
   "cell_type": "markdown",
   "metadata": {},
   "source": [
    "## Step5. 準確度分析"
   ]
  },
  {
   "cell_type": "code",
   "execution_count": 75,
   "metadata": {},
   "outputs": [
    {
     "name": "stdout",
     "output_type": "stream",
     "text": [
      "0.821608040201005\n",
      "0.8362573099415205\n"
     ]
    }
   ],
   "source": [
    "print(clf.score(training_data_train,training_labels_train))\n",
    "print(clf.score(training_data_test,training_labels_test))"
   ]
  },
  {
   "cell_type": "code",
   "execution_count": null,
   "metadata": {},
   "outputs": [],
   "source": []
  }
 ],
 "metadata": {
  "kernelspec": {
   "display_name": "Python 3",
   "language": "python",
   "name": "python3"
  }
 },
 "nbformat": 4,
 "nbformat_minor": 2
}
